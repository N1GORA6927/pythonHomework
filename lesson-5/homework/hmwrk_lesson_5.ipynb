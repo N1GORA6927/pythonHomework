{
 "cells": [
  {
   "cell_type": "code",
   "execution_count": 2,
   "metadata": {},
   "outputs": [
    {
     "name": "stdout",
     "output_type": "stream",
     "text": [
      "C\n"
     ]
    }
   ],
   "source": [
    "#test2\n",
    "#Q1 show the grade\n",
    "grade=int(input('enter your grade'))\n",
    "\n",
    "if grade> 90:\n",
    "    print('A')\n",
    "elif grade>80 and grade<=90:\n",
    "    print('B')\n",
    "elif grade >=60 and grade <=80:\n",
    "    print('C')\n",
    "elif grade<60:\n",
    "    print ('D')    \n"
   ]
  },
  {
   "cell_type": "code",
   "execution_count": 5,
   "metadata": {},
   "outputs": [
    {
     "name": "stdout",
     "output_type": "stream",
     "text": [
      "your tax is: 10%\n"
     ]
    }
   ],
   "source": [
    "#Q2 TAX PERCENTAGE\n",
    "costofbike=int(input('enter cost'))\n",
    "a='your tax is:'\n",
    "if costofbike >100000:\n",
    "    print (a, '15%')\n",
    "elif costofbike >50000 and costofbike<=100000:\n",
    "    print(a ,'10%')\n",
    "elif costofbike <=50000:\n",
    "    print (a, '5%')"
   ]
  },
  {
   "cell_type": "code",
   "execution_count": 6,
   "metadata": {},
   "outputs": [
    {
     "name": "stdout",
     "output_type": "stream",
     "text": [
      "the year is leap year\n"
     ]
    }
   ],
   "source": [
    "#Q3 LEAP YEAR OR NOT\n",
    "year=int(input('enter the year'))\n",
    "if year%4==0:\n",
    "    print('the year is leap year')"
   ]
  },
  {
   "cell_type": "code",
   "execution_count": 13,
   "metadata": {},
   "outputs": [
    {
     "name": "stdout",
     "output_type": "stream",
     "text": [
      "thursday\n"
     ]
    }
   ],
   "source": [
    "#Q4 name of weekday\n",
    "num=int(input('enter your number'))\n",
    "\n",
    "if num==1:\n",
    "    print('sunday')\n",
    "elif num==2:\n",
    "    print('monday')\n",
    "elif num==3:\n",
    "    print('tuesday') \n",
    "elif num==4:\n",
    "    print('wednesday') \n",
    "elif num==5:\n",
    "    print('thursday') \n",
    "elif num==6:\n",
    "    print('friday')    \n",
    "elif num==7:\n",
    "    print('saturday') \n",
    "else:\n",
    "    print('invalid  number') \n",
    "      "
   ]
  },
  {
   "cell_type": "code",
   "execution_count": 17,
   "metadata": {},
   "outputs": [
    {
     "name": "stdout",
     "output_type": "stream",
     "text": [
      "you enter incorrect city\n",
      "monument of the city is 0\n"
     ]
    }
   ],
   "source": [
    "#Q9 monument of city\n",
    "city=input('choose delhi,agra or jaupur' )\n",
    "monument=0\n",
    "if city=='delhi':\n",
    "    monument='red fort'\n",
    "elif city=='agra':\n",
    "    monument='taj mahal'\n",
    "elif city=='jaupur':\n",
    "    monument='jal mahal'\n",
    "else:\n",
    "    print('you enter incorrect city')\n",
    "print('monument of the city is',monument)"
   ]
  },
  {
   "cell_type": "code",
   "execution_count": 19,
   "metadata": {},
   "outputs": [
    {
     "name": "stdout",
     "output_type": "stream",
     "text": [
      "hello\n"
     ]
    }
   ],
   "source": [
    "#Q10\n",
    "a=9\n",
    "if a>5 and a<=10:\n",
    "    print('hello')\n",
    "else:\n",
    "    print('bye')\n"
   ]
  },
  {
   "cell_type": "code",
   "execution_count": 4,
   "metadata": {},
   "outputs": [
    {
     "name": "stdout",
     "output_type": "stream",
     "text": [
      "enter 3 digit number\n"
     ]
    }
   ],
   "source": [
    "#test3\n",
    "#Q1 is number three digit number\n",
    "number=(input('enter number'))\n",
    "b=len(number)\n",
    "if b==3:\n",
    "    print('true')\n",
    "else:\n",
    "    print('enter 3 digit number')\n"
   ]
  },
  {
   "cell_type": "code",
   "execution_count": 5,
   "metadata": {},
   "outputs": [
    {
     "name": "stdout",
     "output_type": "stream",
     "text": [
      "you are eligable\n"
     ]
    }
   ],
   "source": [
    "#Q2 IS ELIGABLE\n",
    "age=int(input('enter ypur age'))\n",
    "if age>=18:\n",
    "    print('you are eligable')\n",
    "else:\n",
    "    print('you are not eligable')"
   ]
  },
  {
   "cell_type": "code",
   "execution_count": 7,
   "metadata": {},
   "outputs": [
    {
     "name": "stdout",
     "output_type": "stream",
     "text": [
      "you are senior citizen\n"
     ]
    }
   ],
   "source": [
    "#Q3. is citezen senior\n",
    "\n",
    "AGE=int(input('enter age'))\n",
    "if AGE >=60:\n",
    "    print('you are senior citizen' )\n",
    "else:\n",
    "    print('you are not senior')"
   ]
  },
  {
   "cell_type": "code",
   "execution_count": 8,
   "metadata": {},
   "outputs": [
    {
     "name": "stdout",
     "output_type": "stream",
     "text": [
      "the smallest number is  4\n"
     ]
    }
   ],
   "source": [
    "#Q5 find min\n",
    "n1=int(input('enter 1st number'))\n",
    "n2=int(input('enter 2nd number'))\n",
    "\n",
    "if n1>n2:\n",
    "    print('the smallest number is ',n2)\n",
    "else:\n",
    "    print('the smallest number is ',n1)"
   ]
  },
  {
   "cell_type": "code",
   "execution_count": 9,
   "metadata": {},
   "outputs": [
    {
     "name": "stdout",
     "output_type": "stream",
     "text": [
      "the LARGEST number is  8\n"
     ]
    }
   ],
   "source": [
    "#Q5 FIND THE LARGEST\n",
    "if n1>n2:\n",
    "    print('the LARGEST number is ',n1)\n",
    "else:\n",
    "    print('the LARGEST number is ',n2)"
   ]
  },
  {
   "cell_type": "code",
   "execution_count": 10,
   "metadata": {},
   "outputs": [
    {
     "name": "stdout",
     "output_type": "stream",
     "text": [
      "the number is positive\n"
     ]
    }
   ],
   "source": [
    "#Q6 IS THE NUMBER POSITIVE\n",
    "\n",
    "if n1>0:\n",
    "    print('the number is positive')\n",
    "else:\n",
    "    print('the number is negative')"
   ]
  },
  {
   "cell_type": "code",
   "execution_count": 11,
   "metadata": {},
   "outputs": [
    {
     "name": "stdout",
     "output_type": "stream",
     "text": [
      "even\n"
     ]
    }
   ],
   "source": [
    "#Q7 even or odd\n",
    "if n2%2==0:\n",
    "    print('even')\n",
    "else:\n",
    "    print('odd')"
   ]
  },
  {
   "cell_type": "code",
   "execution_count": 13,
   "metadata": {},
   "outputs": [
    {
     "name": "stdout",
     "output_type": "stream",
     "text": [
      "not divisable\n"
     ]
    }
   ],
   "source": [
    "#Q8 divisable to both 2 and 3\n",
    "\n",
    "if n2%2==0 and n2%3==0:\n",
    "    print('divisable')\n",
    "else:\n",
    "    print('not divisable')"
   ]
  },
  {
   "cell_type": "code",
   "execution_count": null,
   "metadata": {},
   "outputs": [],
   "source": []
  }
 ],
 "metadata": {
  "kernelspec": {
   "display_name": "Python 3",
   "language": "python",
   "name": "python3"
  },
  "language_info": {
   "codemirror_mode": {
    "name": "ipython",
    "version": 3
   },
   "file_extension": ".py",
   "mimetype": "text/x-python",
   "name": "python",
   "nbconvert_exporter": "python",
   "pygments_lexer": "ipython3",
   "version": "3.13.0"
  }
 },
 "nbformat": 4,
 "nbformat_minor": 2
}
