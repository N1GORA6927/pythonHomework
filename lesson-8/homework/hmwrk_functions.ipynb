{
 "cells": [
  {
   "cell_type": "code",
   "execution_count": 4,
   "metadata": {},
   "outputs": [
    {
     "name": "stdout",
     "output_type": "stream",
     "text": [
      "50\n"
     ]
    }
   ],
   "source": [
    "#1. Write a Python function to find the maximum of three numbers in three ways.\n",
    "#Note: ( In third way, it is not allowed using MAX or SORT method or SORTED function)\n",
    "def max_num(a,b,c):\n",
    "    return(max(a,b,c))\n",
    "a=max_num(30,40,50)\n",
    "print(a)"
   ]
  },
  {
   "cell_type": "code",
   "execution_count": 8,
   "metadata": {},
   "outputs": [
    {
     "name": "stdout",
     "output_type": "stream",
     "text": [
      "50\n"
     ]
    }
   ],
   "source": [
    "\n",
    "\n",
    "def maxium(a,b,c):\n",
    "    if a>b and a>c:\n",
    "        ptint(a)\n",
    "    elif b>c and b>a:\n",
    "         print(b)\n",
    "    elif c>a and c>b:\n",
    "       print(c) \n",
    "res=maxium(30,40,50)"
   ]
  },
  {
   "cell_type": "code",
   "execution_count": 10,
   "metadata": {},
   "outputs": [
    {
     "name": "stdout",
     "output_type": "stream",
     "text": [
      "32\n"
     ]
    }
   ],
   "source": [
    "#2 Write a Python function to sum all the numbers in a list\n",
    "l=[3,5,7,8,9]\n",
    "def total(l):\n",
    "    return(sum(l))\n",
    "res=total(l)\n",
    "print(res)"
   ]
  },
  {
   "cell_type": "code",
   "execution_count": 9,
   "metadata": {},
   "outputs": [
    {
     "name": "stdout",
     "output_type": "stream",
     "text": [
      "24\n"
     ]
    }
   ],
   "source": [
    "#3.Write a Python function to calculate the factorial of a number (a non-negative integer). The function accepts the number as an argument.\n",
    "res=1\n",
    "def factorial(n):\n",
    "    res=1\n",
    "    if n==1  or n==0:\n",
    "         return(1)\n",
    "    else:\n",
    "        for i in range(2,n+1):\n",
    "          res*=i\n",
    "        return(res)\n",
    " \n",
    "    \n",
    "print(factorial(4))    \n",
    "    "
   ]
  },
  {
   "cell_type": "code",
   "execution_count": 16,
   "metadata": {},
   "outputs": [
    {
     "name": "stdout",
     "output_type": "stream",
     "text": [
      "120\n"
     ]
    }
   ],
   "source": [
    "#5. Write a Python function to calculate the factorial of a number\n",
    "# (a non-negative integer). The function accepts the number as an argument\n",
    "def factorial(a):\n",
    "    ressult=1\n",
    "    for i in range(1,a+1):\n",
    "        ressult*=i\n",
    "    return(ressult)\n",
    "print(factorial(5))    "
   ]
  },
  {
   "cell_type": "code",
   "execution_count": 19,
   "metadata": {},
   "outputs": [
    {
     "name": "stdout",
     "output_type": "stream",
     "text": [
      "false\n"
     ]
    }
   ],
   "source": [
    "#6. Write a Python function to check whether a number falls within a given range\n",
    "def checking(a,b,c):\n",
    "    if a>b and a<c:\n",
    "        return('true')\n",
    "    else:\n",
    "       return('false')\n",
    "print(checking(5,6,8))\n",
    "    "
   ]
  },
  {
   "cell_type": "code",
   "execution_count": 9,
   "metadata": {},
   "outputs": [
    {
     "name": "stdout",
     "output_type": "stream",
     "text": [
      "upper sum is 2 \n",
      "lower sum is 3\n"
     ]
    }
   ],
   "source": [
    "#7. Write a Python function that accepts a string and counts the number of upper and lower case letters.\n",
    "\n",
    "def casecheck(s):\n",
    "    upperCase=0\n",
    "    lowerCase=0\n",
    "    for i in s:\n",
    "       if i.isupper():\n",
    "           upperCase+=1\n",
    "       elif i.islower():\n",
    "           lowerCase+=1\n",
    "    return(f'upper sum is {upperCase} \\nlower sum is {lowerCase}')\n",
    "print(casecheck('aaaSS'))    "
   ]
  },
  {
   "cell_type": "code",
   "execution_count": 13,
   "metadata": {},
   "outputs": [
    {
     "name": "stdout",
     "output_type": "stream",
     "text": [
      "[1, 2, 4, 5, 3, 7]\n"
     ]
    }
   ],
   "source": [
    "#8. Write a Python function that takes a list and returns a new list with distinct elements from the first list.\n",
    "l=[1,1,2,4,4,5,3,7,3]\n",
    "unique=[]\n",
    "def distinct():\n",
    "    for i in l:\n",
    "        if i  not in unique:\n",
    "            unique.append(i) \n",
    "    return(unique)\n",
    "print(distinct())\n"
   ]
  },
  {
   "cell_type": "code",
   "execution_count": 16,
   "metadata": {},
   "outputs": [
    {
     "name": "stdout",
     "output_type": "stream",
     "text": [
      "19 is prime\n"
     ]
    }
   ],
   "source": [
    "#9. Write a Python function that takes a number as a parameter and checks whether the number is prime or not.\n",
    "def prime_check(n):\n",
    "    for i in range(2,n//2+1):\n",
    "       if n%i==0:\n",
    "           return (f'{n} is not prime')\n",
    "       elif n%i!=0:\n",
    "           return(f'{n} is prime')\n",
    "           \n",
    "           \n",
    "           \n",
    "print(prime_check(19))"
   ]
  },
  {
   "cell_type": "code",
   "execution_count": 26,
   "metadata": {},
   "outputs": [
    {
     "name": "stdout",
     "output_type": "stream",
     "text": [
      "[2, 4, 8]\n"
     ]
    }
   ],
   "source": [
    "#10. Write a Python program to print the even numbers from a given list\n",
    "\n",
    "\n",
    "def even(l1):\n",
    "    res=[]\n",
    "    for i in l1:\n",
    "        if i%2==0:\n",
    "            res.append(i)\n",
    "        else:\n",
    "            res\n",
    "    return res\n",
    "print(even(l1=[5,2,4,8,3,7]))"
   ]
  },
  {
   "cell_type": "code",
   "execution_count": 32,
   "metadata": {},
   "outputs": [
    {
     "name": "stdout",
     "output_type": "stream",
     "text": [
      "7 is not perfect\n"
     ]
    }
   ],
   "source": [
    "#11. Write a Python function to check whether a number is \"Perfect\" or not.\n",
    "\n",
    "def perfect_check(n):\n",
    "     sum=0\n",
    "     for i in range(1,n):\n",
    "         if n%i==0:\n",
    "            sum+=i\n",
    "            if sum==n:\n",
    "                return f'{n} is perfect'\n",
    "            else:\n",
    "                return f'{n} is not perfect'\n",
    "print(perfect_check(7))"
   ]
  },
  {
   "cell_type": "code",
   "execution_count": 34,
   "metadata": {},
   "outputs": [
    {
     "name": "stdout",
     "output_type": "stream",
     "text": [
      "madam is not palindrome\n"
     ]
    }
   ],
   "source": [
    "#12. Write a  Python function that checks whether a passed string is a palindrome or not.   ?\n",
    "def palindrome_check(word):\n",
    "    if reversed(word)==word:\n",
    "        return f'{word} is palindrome'\n",
    "    else:\n",
    "         return f'{word} is not palindrome'\n",
    "print(palindrome_check('madam'))"
   ]
  },
  {
   "cell_type": "code",
   "execution_count": 39,
   "metadata": {},
   "outputs": [
    {
     "name": "stdout",
     "output_type": "stream",
     "text": [
      "[1, 4, 9, 16, 25, 36, 49, 64, 81, 100, 121, 144, 169, 196, 225, 256, 289, 324, 361, 400, 441, 484, 529, 576, 625, 676, 729, 784, 841, 900]\n"
     ]
    }
   ],
   "source": [
    "#13. Write a Python function to create and print a list where the values are the squares of numbers between 1 and 30 (both included).\n",
    "\n",
    "def sequare():\n",
    "    l=[]\n",
    "    for i in range (1,31):\n",
    "        l.append(i**2)\n",
    "    return(l)\n",
    "print(sequare())"
   ]
  },
  {
   "cell_type": "code",
   "execution_count": 43,
   "metadata": {},
   "outputs": [
    {
     "name": "stdout",
     "output_type": "stream",
     "text": [
      "['black', 'green', 'red', 'whit', 'yellow']\n"
     ]
    }
   ],
   "source": [
    "#Write a Python program that accepts a hyphen-separated sequence of words as input and prints the words in a \n",
    "# hyphen-separated sequence after sorting them alphabetically.\n",
    "# Sample Items : green-red-yellow-black-white    ---\n",
    "\t           # Expected Result : black-green-red-white-yellow\n",
    "            \n",
    "def order(text):\n",
    "    l=text.split('-')\n",
    "    for i in l:\n",
    "        l.sort()\n",
    "    return(l)\n",
    "print(order('green-red-yellow-black-whit'))\n",
    "        \n",
    "          "
   ]
  },
  {
   "cell_type": "code",
   "execution_count": 44,
   "metadata": {},
   "outputs": [
    {
     "name": "stdout",
     "output_type": "stream",
     "text": [
      "55\n"
     ]
    }
   ],
   "source": [
    "#15. Write a program to create a recursive function to calculate the sum of numbers from 0 to 10.\n",
    "def total(n):\n",
    "    sum=0\n",
    "    for i in range(n+1):\n",
    "        sum=sum+i\n",
    "    return(sum)\n",
    "\n",
    "print(total(10))"
   ]
  }
 ],
 "metadata": {
  "kernelspec": {
   "display_name": "Python 3",
   "language": "python",
   "name": "python3"
  },
  "language_info": {
   "codemirror_mode": {
    "name": "ipython",
    "version": 3
   },
   "file_extension": ".py",
   "mimetype": "text/x-python",
   "name": "python",
   "nbconvert_exporter": "python",
   "pygments_lexer": "ipython3",
   "version": "3.13.0"
  }
 },
 "nbformat": 4,
 "nbformat_minor": 2
}
