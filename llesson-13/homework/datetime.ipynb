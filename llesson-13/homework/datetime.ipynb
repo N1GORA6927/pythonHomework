{
 "cells": [
  {
   "cell_type": "code",
   "execution_count": 10,
   "metadata": {},
   "outputs": [
    {
     "data": {
      "text/plain": [
       "21"
      ]
     },
     "execution_count": 10,
     "metadata": {},
     "output_type": "execute_result"
    }
   ],
   "source": [
    "#1. Age Calculator: Ask the user to enter their birthdate. Calculate and print their age in years, months, and days.\n",
    "from datetime import date,datetime,time,timedelta\n",
    "\n",
    "def age_calculation(birthdate):\n",
    "    today=date.today()\n",
    "    birthdate=datetime.strptime(birthdate,'%Y-%m-%d')\n",
    "    age=today.year-birthdate.year\n",
    "    return age\n",
    "\n",
    "a=age_calculation('2004-01-30')\n",
    "a"
   ]
  },
  {
   "cell_type": "code",
   "execution_count": 11,
   "metadata": {},
   "outputs": [
    {
     "data": {
      "text/plain": [
       "356"
      ]
     },
     "execution_count": 11,
     "metadata": {},
     "output_type": "execute_result"
    }
   ],
   "source": [
    "#2. Days Until Next Birthday: Similar to the first exercise, but this time, calculate \n",
    "# and print the number of days remaining until the user's next birthday.\n",
    "def period(birtday):\n",
    "    birtday=datetime.strptime(birtday,'%Y-%m-%d')\n",
    "    today=date.today()\n",
    "    next_year=date(today.year+1,1,1)\n",
    "    next_birthday=date(today.year+1,birtday.month,birtday.day)\n",
    "    dif=(next_year-today).days+1+(next_birthday-next_year).days\n",
    "    return dif\n",
    "\n",
    "a=period('2004-01-30')\n",
    "a"
   ]
  },
  {
   "cell_type": "code",
   "execution_count": 18,
   "metadata": {},
   "outputs": [
    {
     "name": "stdout",
     "output_type": "stream",
     "text": [
      "2025-02-07 17:15:00\n"
     ]
    }
   ],
   "source": [
    "#3. Meeting Scheduler: Ask the user to enter the current date and time, as well as the duration of a meeting in hours and minutes. \n",
    "# Calculate and print the date and time when the meeting will end.\n",
    "\n",
    "def end_time(now,duration):\n",
    "    now=datetime.strptime(now,\"%Y-%m-%d %H:%M:%S\")\n",
    "    duration=datetime.strptime(duration,'%H:%M')\n",
    "    period=timedelta(hours=duration.hour,minutes=duration.minute)\n",
    "    end=now+period\n",
    "    return end\n",
    "\n",
    "current_time = \"2025-02-07 14:30:00\"\n",
    "duration_time = \"02:45\" \n",
    "\n",
    "result = end_time(current_time, duration_time)\n",
    "print(result)"
   ]
  },
  {
   "cell_type": "code",
   "execution_count": 15,
   "metadata": {},
   "outputs": [
    {
     "name": "stdout",
     "output_type": "stream",
     "text": [
      "2025-02-09 20:00:00+09:00\n"
     ]
    }
   ],
   "source": [
    "#4. Timezone Converter: Create a program that allows the user to enter a date and time along with their current timezone,\n",
    "# and then convert and print the date and time in another timezone of their choice.\n",
    "\n",
    "import pytz\n",
    "\n",
    "def converting_time(local,country):\n",
    "    local=datetime.strptime(local,'%Y-%m-%d %H:%M')\n",
    "    tz=pytz.timezone(country)\n",
    "    localized_dt = tz.localize(local)\n",
    "    converted=local.astimezone(tz)\n",
    "    return  converted \n",
    "a=converting_time('2025-02-09 16:00','Asia/Seoul')\n",
    "print(a)\n",
    "\n"
   ]
  },
  {
   "cell_type": "code",
   "execution_count": 1,
   "metadata": {},
   "outputs": [
    {
     "name": "stdout",
     "output_type": "stream",
     "text": [
      "Valid email address.\n"
     ]
    }
   ],
   "source": [
    "# Email Validator: Write a program that validates email addresses. \n",
    "# Ask the user to input an email address, and check if it follows a valid email format.\n",
    "\n",
    "import re\n",
    "def email_check(email):\n",
    "    pattern = r'^[a-zA-Z0-9._%+-]+@[a-zA-Z0-9.-]+\\.[a-zA-Z]{2,}$'\n",
    "\n",
    "    if re.match(pattern, email):\n",
    "        return True\n",
    "    else:\n",
    "        return False\n",
    "\n",
    "user_email = input(\"Please enter your email address: \")\n",
    "\n",
    "if email_check(user_email):\n",
    "    print(\"Valid email address.\")\n",
    "else:\n",
    "    print(\"Invalid email address.\")"
   ]
  },
  {
   "cell_type": "code",
   "execution_count": 2,
   "metadata": {},
   "outputs": [
    {
     "name": "stdout",
     "output_type": "stream",
     "text": [
      "Formatted phone number: (234) 567-845\n"
     ]
    }
   ],
   "source": [
    "#7. Phone Number Formatter: Create a program that takes a phone number as input and formats it according to a standard format. \n",
    "# For example, convert \"1234567890\" to \"(123) 456-7890\"\n",
    "def phone_num(number):\n",
    "    number = f\"({number[:3]}) {number[3:6]}-{number[6:]}\"\n",
    "    return number\n",
    "\n",
    "\n",
    "user_input = input(\"Please enter a phone number: \")\n",
    "\n",
    "# Format and print the phone number\n",
    "formatted = phone_num(user_input)\n",
    "print(\"Formatted phone number:\", formatted)"
   ]
  }
 ],
 "metadata": {
  "kernelspec": {
   "display_name": "Python 3",
   "language": "python",
   "name": "python3"
  },
  "language_info": {
   "codemirror_mode": {
    "name": "ipython",
    "version": 3
   },
   "file_extension": ".py",
   "mimetype": "text/x-python",
   "name": "python",
   "nbconvert_exporter": "python",
   "pygments_lexer": "ipython3",
   "version": "3.13.0"
  }
 },
 "nbformat": 4,
 "nbformat_minor": 2
}
