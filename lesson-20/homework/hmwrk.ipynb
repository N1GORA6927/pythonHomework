{
 "cells": [
  {
   "cell_type": "code",
   "execution_count": 1,
   "metadata": {},
   "outputs": [],
   "source": [
    "import pandas as pd"
   ]
  },
  {
   "cell_type": "code",
   "execution_count": 2,
   "metadata": {},
   "outputs": [],
   "source": [
    "# Data for customers\n",
    "data_customers = {'CustomerID': [1, 2, 3, 4],\n",
    "                  'CustomerName': ['Alice', 'Bob', 'Charlie', 'David'],\n",
    "                  'Country': ['USA', 'UK', 'Canada', 'Germany']}\n",
    "customers = pd.DataFrame(data_customers)\n",
    "\n",
    "# Data for orders\n",
    "data_orders = {'OrderID': [101, 102, 103, 104, 105, 106],\n",
    "               'CustomerID': [1, 1, 2, 3, 3, 3],\n",
    "               'OrderDate': ['2025-01-15', '2025-02-15', '2025-03-15', '2025-01-16', '2025-02-16', '2025-03-16'],\n",
    "               'TotalAmount': [100, 200, 150, 50, 60, 70]}\n",
    "orders = pd.DataFrame(data_orders)\n",
    "\n",
    "# Data for order_items\n",
    "data_order_items = {'OrderItemID': [1, 2, 3, 4, 5, 6, 7, 8],\n",
    "                    'OrderID': [101, 101, 102, 103, 104, 105, 106, 106],\n",
    "                    'ProductID': [1, 2, 1, 3, 2, 1, 3, 4],\n",
    "                    'Quantity': [1, 2, 1, 2, 1, 3, 1, 2]}\n",
    "order_items = pd.DataFrame(data_order_items)\n"
   ]
  },
  {
   "cell_type": "code",
   "execution_count": 10,
   "metadata": {},
   "outputs": [
    {
     "data": {
      "text/html": [
       "<div>\n",
       "<style scoped>\n",
       "    .dataframe tbody tr th:only-of-type {\n",
       "        vertical-align: middle;\n",
       "    }\n",
       "\n",
       "    .dataframe tbody tr th {\n",
       "        vertical-align: top;\n",
       "    }\n",
       "\n",
       "    .dataframe thead th {\n",
       "        text-align: right;\n",
       "    }\n",
       "</style>\n",
       "<table border=\"1\" class=\"dataframe\">\n",
       "  <thead>\n",
       "    <tr style=\"text-align: right;\">\n",
       "      <th></th>\n",
       "      <th>CustomerID</th>\n",
       "      <th>CustomerName</th>\n",
       "      <th>OrderCount</th>\n",
       "      <th>TotalAmount</th>\n",
       "      <th>MeanAmount</th>\n",
       "    </tr>\n",
       "  </thead>\n",
       "  <tbody>\n",
       "    <tr>\n",
       "      <th>0</th>\n",
       "      <td>1</td>\n",
       "      <td>Alice</td>\n",
       "      <td>2</td>\n",
       "      <td>300</td>\n",
       "      <td>150.0</td>\n",
       "    </tr>\n",
       "    <tr>\n",
       "      <th>1</th>\n",
       "      <td>2</td>\n",
       "      <td>Bob</td>\n",
       "      <td>1</td>\n",
       "      <td>150</td>\n",
       "      <td>150.0</td>\n",
       "    </tr>\n",
       "    <tr>\n",
       "      <th>2</th>\n",
       "      <td>3</td>\n",
       "      <td>Charlie</td>\n",
       "      <td>3</td>\n",
       "      <td>180</td>\n",
       "      <td>60.0</td>\n",
       "    </tr>\n",
       "  </tbody>\n",
       "</table>\n",
       "</div>"
      ],
      "text/plain": [
       "   CustomerID CustomerName  OrderCount  TotalAmount  MeanAmount\n",
       "0           1        Alice           2          300       150.0\n",
       "1           2          Bob           1          150       150.0\n",
       "2           3      Charlie           3          180        60.0"
      ]
     },
     "execution_count": 10,
     "metadata": {},
     "output_type": "execute_result"
    }
   ],
   "source": [
    "res=customers.merge(orders,on='CustomerID',how='inner')\n",
    "a = res.groupby(['CustomerID', 'CustomerName']).agg(\n",
    "    OrderCount=('OrderID', 'count'),\n",
    "    TotalAmount=('TotalAmount', 'sum'),\n",
    "    MeanAmount=('TotalAmount', 'mean')\n",
    ").reset_index()\n",
    "a"
   ]
  },
  {
   "cell_type": "code",
   "execution_count": null,
   "metadata": {},
   "outputs": [],
   "source": [
    "#res=customers.merge(orders,on='CustomerID',how='inner')\n",
    "#a=res.groupby(['CustomerID','CustomerName'])['OrderID'].value_counts()['TotalAmount'].agg(['sum','mean'])\n"
   ]
  }
 ],
 "metadata": {
  "kernelspec": {
   "display_name": "Python 3",
   "language": "python",
   "name": "python3"
  },
  "language_info": {
   "codemirror_mode": {
    "name": "ipython",
    "version": 3
   },
   "file_extension": ".py",
   "mimetype": "text/x-python",
   "name": "python",
   "nbconvert_exporter": "python",
   "pygments_lexer": "ipython3",
   "version": "3.13.0"
  }
 },
 "nbformat": 4,
 "nbformat_minor": 2
}
