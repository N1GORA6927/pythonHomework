{
 "cells": [
  {
   "cell_type": "code",
   "execution_count": 1,
   "metadata": {},
   "outputs": [
    {
     "name": "stdout",
     "output_type": "stream",
     "text": [
      "!dlroW ,olle\n"
     ]
    }
   ],
   "source": [
    "#Question 1: Reverse String \n",
    "\n",
    "string=input('please enter your string:')\n",
    "reversed_string=string[::-1]\n",
    "print(reversed_string)"
   ]
  },
  {
   "cell_type": "code",
   "execution_count": 75,
   "metadata": {},
   "outputs": [
    {
     "name": "stdout",
     "output_type": "stream",
     "text": [
      "Missing number is: [4]\n"
     ]
    }
   ],
   "source": [
    "#Question 2: Missing Number \n",
    "def missed(l):\n",
    "    res = []  \n",
    "    for i in range(1, max(l) + 1):\n",
    "        if i not in l:\n",
    "            res.append(i)\n",
    "    return res\n",
    "\n",
    "nums = [1, 2, 3, 5]\n",
    "missing_numbers = missed(nums)\n",
    "print(f'Missing number is: {missing_numbers}')"
   ]
  },
  {
   "cell_type": "code",
   "execution_count": 2,
   "metadata": {},
   "outputs": [
    {
     "name": "stdout",
     "output_type": "stream",
     "text": [
      "MY NAME is Nigora\n",
      "6\n"
     ]
    }
   ],
   "source": [
    "#Question 3: Count vowels \n",
    "text=input('please enter your sentence:')\n",
    "vowels=['a','e','i','o','u']\n",
    "result=[]\n",
    "for i in text.lower():\n",
    "    if i in vowels:\n",
    "        result.append(i)\n",
    "        \n",
    "print(text)\n",
    "print(len(result))\n",
    "\n",
    "        "
   ]
  },
  {
   "cell_type": "code",
   "execution_count": 64,
   "metadata": {},
   "outputs": [
    {
     "name": "stdout",
     "output_type": "stream",
     "text": [
      "30 is not prime\n"
     ]
    }
   ],
   "source": [
    "\n",
    "\n",
    "def prime_check(n):\n",
    "    for i in range(2,n//2+1):\n",
    "       if n%i==0:\n",
    "           return (f'{n} is not prime')\n",
    "       elif n%i!=0:\n",
    "           return(f'{n} is prime')\n",
    "print(prime_check(30))\n",
    "\n"
   ]
  },
  {
   "cell_type": "code",
   "execution_count": 78,
   "metadata": {},
   "outputs": [
    {
     "name": "stdout",
     "output_type": "stream",
     "text": [
      "Prime numbers up to 20: [2, 3, 5, 7, 11, 13, 17, 19]\n"
     ]
    }
   ],
   "source": [
    "def prime_check(n):\n",
    "    if n < 2:\n",
    "        return False  \n",
    "    for i in range(2, int(n //2) + 1):\n",
    "        if n % i == 0:\n",
    "            return False\n",
    "    return True\n",
    "\n",
    "\n",
    "num = int(input('Enter an upper limit: '))\n",
    "\n",
    "\n",
    "prime_numbers = [n for n in range(2, num) if prime_check(n)]\n",
    "\n",
    "print(f\"Prime numbers up to {num}: {prime_numbers}\")\n"
   ]
  },
  {
   "cell_type": "code",
   "execution_count": 16,
   "metadata": {},
   "outputs": [
    {
     "name": "stdout",
     "output_type": "stream",
     "text": [
      "[2, 3, 5, 7, 11, 13, 17, 19]\n"
     ]
    }
   ],
   "source": [
    "def primes(n):\n",
    "    res=[]\n",
    "    for j in range (2,n):\n",
    "        for i in range (2,j//2+1):\n",
    "            if j%i==0:\n",
    "               break\n",
    "        else:\n",
    "            res.append(j)\n",
    "    return res\n",
    "    \n",
    "print (primes(20))\n",
    "\n",
    "            \n",
    "             "
   ]
  },
  {
   "cell_type": "code",
   "execution_count": null,
   "metadata": {},
   "outputs": [],
   "source": []
  }
 ],
 "metadata": {
  "kernelspec": {
   "display_name": "Python 3",
   "language": "python",
   "name": "python3"
  },
  "language_info": {
   "codemirror_mode": {
    "name": "ipython",
    "version": 3
   },
   "file_extension": ".py",
   "mimetype": "text/x-python",
   "name": "python",
   "nbconvert_exporter": "python",
   "pygments_lexer": "ipython3",
   "version": "3.13.0"
  }
 },
 "nbformat": 4,
 "nbformat_minor": 2
}
