{
 "cells": [
  {
   "cell_type": "code",
   "execution_count": 12,
   "metadata": {},
   "outputs": [
    {
     "name": "stdout",
     "output_type": "stream",
     "text": [
      "7\n"
     ]
    }
   ],
   "source": [
    "#Write a Python program to calculate the length of a string\n",
    "\n",
    "A=input('ENTER YOUR STRING:')\n",
    "\n",
    "B=len(A)\n",
    "print(B)\n"
   ]
  },
  {
   "cell_type": "code",
   "execution_count": 10,
   "metadata": {},
   "outputs": [
    {
     "name": "stdout",
     "output_type": "stream",
     "text": [
      "VAAN\n"
     ]
    }
   ],
   "source": [
    "#2.Write a Python program to get a string made of the first 2 and last 2 characters of a given string.\n",
    "\n",
    "NEW_STR=A[:2]+A[-2:]\n",
    "print(NEW_STR)"
   ]
  },
  {
   "cell_type": "code",
   "execution_count": 11,
   "metadata": {},
   "outputs": [
    {
     "name": "stdout",
     "output_type": "stream",
     "text": [
      "AC$DEMY\n"
     ]
    }
   ],
   "source": [
    "#3.Write a Python program to get a string from a given string where all occurrences of its first char have been changed to '$', except the first char itself.\n",
    "#Sample String : 'restart'\n",
    "#Expected Result : 'resta$t'\n",
    "CHANGED_STR=A[:1]+A[1:].replace(A[0],'$')\n",
    "print(CHANGED_STR)\n"
   ]
  },
  {
   "cell_type": "code",
   "execution_count": 17,
   "metadata": {},
   "outputs": [
    {
     "name": "stdout",
     "output_type": "stream",
     "text": [
      "uCADEMY Azbek\n"
     ]
    }
   ],
   "source": [
    "# Write a Python program to get a single string from two given strings, separated by a space and swap the first two characters of each string.\n",
    "#Sample String : 'abc', 'xyz'\n",
    "#Expected Result : 'xyc abz'\n",
    "\n",
    "C=input('ENTER STR:')\n",
    "SWAPED=C[:1]+A[1:]+' '+A[:1]+C[1:]\n",
    "print(SWAPED)"
   ]
  },
  {
   "cell_type": "code",
   "execution_count": 18,
   "metadata": {},
   "outputs": [
    {
     "name": "stdout",
     "output_type": "stream",
     "text": [
      "CDEMY\n"
     ]
    }
   ],
   "source": [
    "#5. Write a  Python program to remove the n index ( n should be given by input) character from a nonempty string.\n",
    "n=int(input('choose index:'))\n",
    "removed=A.replace(A[n],'')\n",
    "print(removed)"
   ]
  },
  {
   "cell_type": "code",
   "execution_count": 20,
   "metadata": {},
   "outputs": [
    {
     "name": "stdout",
     "output_type": "stream",
     "text": [
      "YCADEMYA\n"
     ]
    }
   ],
   "source": [
    "#6. Write a Python program to change a given string to a newly string where the first and last chars have been exchanged.\n",
    "new_string=A[-1]+A[1:len(A)]+A[:1]\n",
    "print(new_string)"
   ]
  },
  {
   "cell_type": "code",
   "execution_count": null,
   "metadata": {},
   "outputs": [
    {
     "name": "stdout",
     "output_type": "stream",
     "text": [
      "2\n"
     ]
    }
   ],
   "source": [
    "#7. Write a Python program to count the occurrences of a given word in a given sentence.( word and sentence should be given as a input)\n",
    "word=input('enter your word:')\n",
    "sentence=('enter your sentence:')\n",
    "result=sentence.count(word,)\n",
    "print(result)"
   ]
  },
  {
   "cell_type": "code",
   "execution_count": 24,
   "metadata": {},
   "outputs": [
    {
     "name": "stdout",
     "output_type": "stream",
     "text": [
      "MY\n",
      "my\n"
     ]
    }
   ],
   "source": [
    "#8. Write a Python  script that takes input from the user and displays that input back in upper and lower cases.\n",
    "upper=word.upper()\n",
    "print(upper)\n",
    "lower=word.lower()\n",
    "print(lower)"
   ]
  },
  {
   "cell_type": "code",
   "execution_count": 26,
   "metadata": {},
   "outputs": [
    {
     "name": "stdout",
     "output_type": "stream",
     "text": [
      "mymymymy\n"
     ]
    }
   ],
   "source": [
    "#9. Write a Python code to get a string made of 4 copies of the last two characters of a given string (string should be given as input).\n",
    "#Sample input and result :\n",
    "#('Python') -> onononon\n",
    "#('Exercises') -> eseseses\n",
    "copy=word[-2:]*4\n",
    "print(copy)"
   ]
  },
  {
   "cell_type": "code",
   "execution_count": 27,
   "metadata": {},
   "outputs": [
    {
     "name": "stdout",
     "output_type": "stream",
     "text": [
      "ACA\n"
     ]
    }
   ],
   "source": [
    "#10. Write a Python code to get a string made of the first three characters of a specified string.\n",
    "first3=A[:3]\n",
    "print(first3)"
   ]
  },
  {
   "cell_type": "code",
   "execution_count": 30,
   "metadata": {},
   "outputs": [
    {
     "name": "stdout",
     "output_type": "stream",
     "text": [
      "YMEDACA\n"
     ]
    }
   ],
   "source": [
    "#11.Write a Python code to reverse a string\n",
    "reversed=A[::-1]\n",
    "print(reversed)"
   ]
  },
  {
   "cell_type": "code",
   "execution_count": 32,
   "metadata": {},
   "outputs": [
    {
     "name": "stdout",
     "output_type": "stream",
     "text": [
      "False\n"
     ]
    }
   ],
   "source": [
    "#12.Write a Python program to check whether a string starts with specified characters.\n",
    "specified=input('enter your character:')\n",
    "check=A.startswith(specified)\n",
    "print(check)"
   ]
  },
  {
   "cell_type": "code",
   "execution_count": null,
   "metadata": {},
   "outputs": [],
   "source": []
  },
  {
   "cell_type": "code",
   "execution_count": null,
   "metadata": {},
   "outputs": [],
   "source": []
  }
 ],
 "metadata": {
  "kernelspec": {
   "display_name": "Python 3",
   "language": "python",
   "name": "python3"
  },
  "language_info": {
   "codemirror_mode": {
    "name": "ipython",
    "version": 3
   },
   "file_extension": ".py",
   "mimetype": "text/x-python",
   "name": "python",
   "nbconvert_exporter": "python",
   "pygments_lexer": "ipython3",
   "version": "3.13.0"
  }
 },
 "nbformat": 4,
 "nbformat_minor": 2
}
