{
 "cells": [
  {
   "cell_type": "code",
   "execution_count": 4,
   "metadata": {},
   "outputs": [
    {
     "name": "stdout",
     "output_type": "stream",
     "text": [
      "1\n",
      "2\n",
      "3\n",
      "4\n",
      "5\n",
      "6\n",
      "7\n",
      "8\n",
      "9\n",
      "10\n"
     ]
    }
   ],
   "source": [
    "#1. Print first 10 natural numbers using while loop\n",
    "for i in range(11):\n",
    "    if i==0:\n",
    "        continue\n",
    "    print(i)"
   ]
  },
  {
   "cell_type": "code",
   "execution_count": 21,
   "metadata": {},
   "outputs": [
    {
     "name": "stdout",
     "output_type": "stream",
     "text": [
      "1 \n",
      "1 2 \n",
      "1 2 3 \n",
      "1 2 3 4 \n",
      "1 2 3 4 5 \n"
     ]
    }
   ],
   "source": [
    "#2. Print the following pattern\n",
    "n = 5\n",
    "\n",
    "\n",
    "for i in range(1, n + 1):\n",
    "    for j in range(1, i + 1):\n",
    "        print(j, end=' ')  \n",
    "    print() "
   ]
  },
  {
   "cell_type": "code",
   "execution_count": 24,
   "metadata": {},
   "outputs": [
    {
     "name": "stdout",
     "output_type": "stream",
     "text": [
      "15\n"
     ]
    }
   ],
   "source": [
    "#3. Write a Python program to accept a number from a user and calculate the sum of all numbers from 1 to a given number\n",
    "a=int(input('enter number'))\n",
    "print(sum(range(1,a)))"
   ]
  },
  {
   "cell_type": "code",
   "execution_count": 32,
   "metadata": {},
   "outputs": [
    {
     "name": "stdout",
     "output_type": "stream",
     "text": [
      "75\n",
      "150\n",
      "145\n"
     ]
    }
   ],
   "source": [
    "#4. Write a Python program to display only those numbers from a list that satisfy the following conditions\n",
    "#The number must be divisible by five\n",
    "#If the number is greater than 150, then skip it and move to the following number\n",
    "#If the number is greater than 500, then stop the loop\n",
    "numbers = [12, 75, 150, 180, 145, 525, 50]\n",
    "for i in numbers:\n",
    "    if i>500:\n",
    "         break\n",
    "    elif i>150:\n",
    "        continue\n",
    "    \n",
    "    elif i%5==0:\n",
    "       print(i)\n"
   ]
  },
  {
   "cell_type": "code",
   "execution_count": 35,
   "metadata": {},
   "outputs": [
    {
     "name": "stdout",
     "output_type": "stream",
     "text": [
      "3\n"
     ]
    }
   ],
   "source": [
    "#5. Write a Python program to count the total number of digits in a number using a while loop.\n",
    "#For example, the number is 75869, so the output should be 5\n",
    "dig=int(input('enret your number'))\n",
    "count=0\n",
    "while dig>0:\n",
    "    dig=dig//10\n",
    "    count+=1\n",
    "print(count)"
   ]
  },
  {
   "cell_type": "code",
   "execution_count": 42,
   "metadata": {},
   "outputs": [
    {
     "name": "stdout",
     "output_type": "stream",
     "text": [
      "50\n",
      "40\n",
      "30\n",
      "20\n",
      "10\n"
     ]
    }
   ],
   "source": [
    "# Print list in reverse order using a loop\n",
    "list1 = [10, 20, 30, 40, 50]\n",
    "for i in reversed(list1):\n",
    "    print(i)"
   ]
  },
  {
   "cell_type": "code",
   "execution_count": 46,
   "metadata": {},
   "outputs": [
    {
     "name": "stdout",
     "output_type": "stream",
     "text": [
      "120\n"
     ]
    }
   ],
   "source": [
    "#8. Find the factorial of a given number\n",
    "b=int(input('enter number'))\n",
    "res=1\n",
    "for i in range(1,b+1):\n",
    "    res*=i\n",
    "print(res)"
   ]
  },
  {
   "cell_type": "code",
   "execution_count": 52,
   "metadata": {},
   "outputs": [
    {
     "name": "stdout",
     "output_type": "stream",
     "text": [
      "0\n",
      "0\n",
      "0\n",
      "0\n",
      "0\n",
      "0\n",
      "0\n",
      "0\n",
      "0\n",
      "0\n"
     ]
    }
   ],
   "source": [
    "#9.  Display Fibonacci series up to 10 terms  ?\n",
    "a=0\n",
    "b=1\n",
    "for i in range(10):\n",
    "    print(a)\n",
    "    a,b,a+b"
   ]
  },
  {
   "cell_type": "code",
   "execution_count": 57,
   "metadata": {},
   "outputs": [
    {
     "name": "stdout",
     "output_type": "stream",
     "text": [
      "perfect\n"
     ]
    }
   ],
   "source": [
    "#11. write a program to identify given number is perfect or not\n",
    "number=int(input('perfect check'))\n",
    "total=0\n",
    "for i in range(1,number//2+1):\n",
    "    if number%i==0:\n",
    "        total+=i\n",
    "        if number==total:\n",
    "            print('perfect')\n",
    "    else:\n",
    "       print('not perfect')"
   ]
  },
  {
   "cell_type": "code",
   "execution_count": 62,
   "metadata": {},
   "outputs": [
    {
     "name": "stdout",
     "output_type": "stream",
     "text": [
      "P\n",
      "@\n",
      "#\n",
      "y\n",
      "n\n",
      "2\n",
      "6\n",
      "a\n",
      "t\n",
      "^\n",
      "&\n",
      "i\n",
      "5\n",
      "v\n",
      "e\n"
     ]
    }
   ],
   "source": [
    "#12. Count all letters, digits, and special symbols from a given string\n",
    "# str1 = \"P@#yn26at^&i5ve\"\n",
    "\n",
    "for i in str1:\n",
    "    if type(i)==str:\n",
    "        print(i)\n",
    "    \n"
   ]
  }
 ],
 "metadata": {
  "kernelspec": {
   "display_name": "Python 3",
   "language": "python",
   "name": "python3"
  },
  "language_info": {
   "codemirror_mode": {
    "name": "ipython",
    "version": 3
   },
   "file_extension": ".py",
   "mimetype": "text/x-python",
   "name": "python",
   "nbconvert_exporter": "python",
   "pygments_lexer": "ipython3",
   "version": "3.13.0"
  }
 },
 "nbformat": 4,
 "nbformat_minor": 2
}
