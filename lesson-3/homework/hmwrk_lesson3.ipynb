{
 "cells": [
  {
   "cell_type": "code",
   "execution_count": 1,
   "metadata": {},
   "outputs": [
    {
     "name": "stdout",
     "output_type": "stream",
     "text": [
      "('first', 'second', 'third')\n",
      "second\n",
      "first\n",
      "second\n",
      "third\n",
      "False\n",
      "False\n"
     ]
    }
   ],
   "source": [
    "#hmwrk1\n",
    "#1\n",
    "cardinal_numbers=('first','second','third')\n",
    "print(cardinal_numbers)\n",
    "#2\n",
    "print(cardinal_numbers[1])\n",
    "#3\n",
    "position1, position2, position3 = cardinal_numbers\n",
    "print(position1)  \n",
    "print(position2)  \n",
    "print(position3)  \n",
    "#4\n",
    "my_name = tuple('Nigora')  \n",
    "#5\n",
    "contains_x = \"x\" in my_name\n",
    "print(contains_x) \n",
    "contain_x = my_name.count(\"x\") > 0\n",
    "print(contain_x)"
   ]
  },
  {
   "cell_type": "markdown",
   "metadata": {},
   "source": []
  },
  {
   "cell_type": "code",
   "execution_count": 2,
   "metadata": {},
   "outputs": [
    {
     "name": "stdout",
     "output_type": "stream",
     "text": [
      "['rice', 'beans']\n",
      "pizza\n",
      "3\n",
      "[4, 5, 12]\n"
     ]
    }
   ],
   "source": [
    "#hmwrk2\n",
    "#1\n",
    "food = [\"rice\", \"beans\"]\n",
    "# 2\n",
    "food.append(\"broccoli\")\n",
    "# 3\n",
    "food.extend([\"bread\", \"pizza\"])\n",
    "# 4\n",
    "print(food[:2])  \n",
    "# 5\n",
    "print(food[-1]) \n",
    "# 6\n",
    "breakfast = \"eggs, fruit, orange juice\".split(\", \")\n",
    "# 7\n",
    "print(len(breakfast)) \n",
    "# 8\n",
    "lengths = [len(item) for item in breakfast]\n",
    "print(lengths)  "
   ]
  },
  {
   "cell_type": "code",
   "execution_count": 8,
   "metadata": {},
   "outputs": [
    {
     "name": "stdout",
     "output_type": "stream",
     "text": [
      "1\n",
      "1\n",
      "None\n"
     ]
    }
   ],
   "source": [
    "#hmwrk3\n",
    "#1 Write a Python program to get the smallest number from a list.=[1,2]\n",
    "list=[1,2,5,8,6,3]\n",
    "smallest=min(list)\n",
    "print(smallest)\n",
    "\n",
    "#4Write a Python program to find the index of an item in a specified list.\n",
    "l1=[1,2,4,6]\n",
    "print(l1.index(2))\n",
    "#5Write a Python program to append a list to the second list.\n",
    "l=[5,7,9,0,5]\n",
    "l2=[1,4,3,2]\n",
    "print(l.append(l2))\n"
   ]
  },
  {
   "cell_type": "code",
   "execution_count": null,
   "metadata": {},
   "outputs": [],
   "source": []
  }
 ],
 "metadata": {
  "kernelspec": {
   "display_name": "Python 3",
   "language": "python",
   "name": "python3"
  },
  "language_info": {
   "codemirror_mode": {
    "name": "ipython",
    "version": 3
   },
   "file_extension": ".py",
   "mimetype": "text/x-python",
   "name": "python",
   "nbconvert_exporter": "python",
   "pygments_lexer": "ipython3",
   "version": "3.13.0"
  }
 },
 "nbformat": 4,
 "nbformat_minor": 2
}
